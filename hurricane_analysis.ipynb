{
 "cells": [
  {
   "cell_type": "code",
   "execution_count": 146,
   "metadata": {},
   "outputs": [],
   "source": [
    "# names of hurricanes\n",
    "names = ['Cuba I', 'San Felipe II Okeechobee', 'Bahamas', 'Cuba II', 'CubaBrownsville', 'Tampico', 'Labor Day', 'New England', 'Carol', 'Janet', 'Carla', 'Hattie', 'Beulah', 'Camille', 'Edith', 'Anita', 'David', 'Allen', 'Gilbert', 'Hugo', 'Andrew', 'Mitch', 'Isabel', 'Ivan', 'Emily', 'Katrina', 'Rita', 'Wilma', 'Dean', 'Felix', 'Matthew', 'Irma', 'Maria', 'Michael']\n",
    "\n",
    "# months of hurricanes\n",
    "months = ['October', 'September', 'September', 'November', 'August', 'September', 'September', 'September', 'September', 'September', 'September', 'October', 'September', 'August', 'September', 'September', 'August', 'August', 'September', 'September', 'August', 'October', 'September', 'September', 'July', 'August', 'September', 'October', 'August', 'September', 'October', 'September', 'September', 'October']\n",
    "\n",
    "# years of hurricanes\n",
    "years = [1924, 1928, 1932, 1932, 1933, 1933, 1935, 1938, 1953, 1955, 1961, 1961, 1967, 1969, 1971, 1977, 1979, 1980, 1988, 1989, 1992, 1998, 2003, 2004, 2005, 2005, 2005, 2005, 2007, 2007, 2016, 2017, 2017, 2018]\n",
    "\n",
    "# maximum sustained winds (mph) of hurricanes\n",
    "max_sustained_winds = [165, 160, 160, 175, 160, 160, 185, 160, 160, 175, 175, 160, 160, 175, 160, 175, 175, 190, 185, 160, 175, 180, 165, 165, 160, 175, 180, 185, 175, 175, 165, 180, 175, 160]\n",
    "\n",
    "# areas affected by each hurricane\n",
    "areas_affected = [['Central America', 'Mexico', 'Cuba', 'Florida', 'The Bahamas'], ['Lesser Antilles', 'The Bahamas', 'United States East Coast', 'Atlantic Canada'], ['The Bahamas', 'Northeastern United States'], ['Lesser Antilles', 'Jamaica', 'Cayman Islands', 'Cuba', 'The Bahamas', 'Bermuda'], ['The Bahamas', 'Cuba', 'Florida', 'Texas', 'Tamaulipas'], ['Jamaica', 'Yucatn Peninsula'], ['The Bahamas', 'Florida', 'Georgia', 'The Carolinas', 'Virginia'], ['Southeastern United States', 'Northeastern United States', 'Southwestern Quebec'], ['Bermuda', 'New England', 'Atlantic Canada'], ['Lesser Antilles', 'Central America'], ['Texas', 'Louisiana', 'Midwestern United States'], ['Central America'], ['The Caribbean', 'Mexico', 'Texas'], ['Cuba', 'United States Gulf Coast'], ['The Caribbean', 'Central America', 'Mexico', 'United States Gulf Coast'], ['Mexico'], ['The Caribbean', 'United States East coast'], ['The Caribbean', 'Yucatn Peninsula', 'Mexico', 'South Texas'], ['Jamaica', 'Venezuela', 'Central America', 'Hispaniola', 'Mexico'], ['The Caribbean', 'United States East Coast'], ['The Bahamas', 'Florida', 'United States Gulf Coast'], ['Central America', 'Yucatn Peninsula', 'South Florida'], ['Greater Antilles', 'Bahamas', 'Eastern United States', 'Ontario'], ['The Caribbean', 'Venezuela', 'United States Gulf Coast'], ['Windward Islands', 'Jamaica', 'Mexico', 'Texas'], ['Bahamas', 'United States Gulf Coast'], ['Cuba', 'United States Gulf Coast'], ['Greater Antilles', 'Central America', 'Florida'], ['The Caribbean', 'Central America'], ['Nicaragua', 'Honduras'], ['Antilles', 'Venezuela', 'Colombia', 'United States East Coast', 'Atlantic Canada'], ['Cape Verde', 'The Caribbean', 'British Virgin Islands', 'U.S. Virgin Islands', 'Cuba', 'Florida'], ['Lesser Antilles', 'Virgin Islands', 'Puerto Rico', 'Dominican Republic', 'Turks and Caicos Islands'], ['Central America', 'United States Gulf Coast (especially Florida Panhandle)']]\n",
    "\n",
    "# damages (USD($)) of hurricanes\n",
    "damages = ['Damages not recorded', '100M', 'Damages not recorded', '40M', '27.9M', '5M', 'Damages not recorded', '306M', '2M', '65.8M', '326M', '60.3M', '208M', '1.42B', '25.4M', 'Damages not recorded', '1.54B', '1.24B', '7.1B', '10B', '26.5B', '6.2B', '5.37B', '23.3B', '1.01B', '125B', '12B', '29.4B', '1.76B', '720M', '15.1B', '64.8B', '91.6B', '25.1B']\n",
    "\n",
    "# deaths for each hurricane\n",
    "deaths = [90,4000,16,3103,179,184,408,682,5,1023,43,319,688,259,37,11,2068,269,318,107,65,19325,51,124,17,1836,125,87,45,133,603,138,3057,74]"
   ]
  },
  {
   "cell_type": "markdown",
   "metadata": {},
   "source": [
    "Write a function that returns a new list of updated damages where the recorded data is converted to float values and the missing data is retained as \"Damages not recorded\".\n",
    "\n"
   ]
  },
  {
   "cell_type": "code",
   "execution_count": 147,
   "metadata": {},
   "outputs": [
    {
     "data": {
      "text/plain": [
       "['Damages not recorded',\n",
       " 100000000.0,\n",
       " 'Damages not recorded',\n",
       " 40000000.0,\n",
       " 27900000.0,\n",
       " 5000000.0,\n",
       " 'Damages not recorded',\n",
       " 306000000.0,\n",
       " 2000000.0,\n",
       " 65800000.0,\n",
       " 326000000.0,\n",
       " 60300000.0,\n",
       " 208000000.0,\n",
       " 1420000000.0,\n",
       " 25400000.0,\n",
       " 'Damages not recorded',\n",
       " 1540000000.0,\n",
       " 1240000000.0,\n",
       " 7100000000.0,\n",
       " 10000000000.0,\n",
       " 26500000000.0,\n",
       " 6200000000.0,\n",
       " 5370000000.0,\n",
       " 23300000000.0,\n",
       " 1010000000.0,\n",
       " 125000000000.0,\n",
       " 12000000000.0,\n",
       " 29400000000.0,\n",
       " 1760000000.0,\n",
       " 720000000.0,\n",
       " 15100000000.0,\n",
       " 64800000000.0,\n",
       " 91600000000.0,\n",
       " 25100000000.0]"
      ]
     },
     "execution_count": 147,
     "metadata": {},
     "output_type": "execute_result"
    }
   ],
   "source": [
    "damages_updated = []\n",
    "def update_damages_fun(list):\n",
    "  \n",
    "  for i in list:\n",
    "    if i != \"Damages not recorded\":\n",
    "      if 'M' in i:\n",
    "        damages_updated.append(float(i.strip('M')) * 1000000)\n",
    "      elif 'B' in i:\n",
    "        damages_updated.append(float(i.strip('B')) * 1000000000)\n",
    "    else:\n",
    "      damages_updated.append('Damages not recorded')\n",
    "  return damages_updated\n",
    "\n",
    "update_damages_fun(damages)\n",
    "#print(damages_updated)"
   ]
  },
  {
   "cell_type": "markdown",
   "metadata": {},
   "source": [
    "Write a function that constructs a dictionary made out of the lists, where the keys of the dictionary are the names of the hurricanes, and the values are dictionaries themselves containing a key for each piece of data (Name, Month, Year,Max Sustained Wind, Areas Affected, Damage, Death) about the hurricane.\n",
    "\n"
   ]
  },
  {
   "cell_type": "code",
   "execution_count": 148,
   "metadata": {},
   "outputs": [
    {
     "data": {
      "text/plain": [
       "{'Cuba I': {'Name': 'Cuba I',\n",
       "  'Month': 'October',\n",
       "  'Year': 1924,\n",
       "  'Max sustained wind': 165,\n",
       "  'Areas affected': ['Central America',\n",
       "   'Mexico',\n",
       "   'Cuba',\n",
       "   'Florida',\n",
       "   'The Bahamas'],\n",
       "  'Damage': 'Damages not recorded',\n",
       "  'Deaths': 90},\n",
       " 'San Felipe II Okeechobee': {'Name': 'San Felipe II Okeechobee',\n",
       "  'Month': 'September',\n",
       "  'Year': 1928,\n",
       "  'Max sustained wind': 160,\n",
       "  'Areas affected': ['Lesser Antilles',\n",
       "   'The Bahamas',\n",
       "   'United States East Coast',\n",
       "   'Atlantic Canada'],\n",
       "  'Damage': 100000000.0,\n",
       "  'Deaths': 4000},\n",
       " 'Bahamas': {'Name': 'Bahamas',\n",
       "  'Month': 'September',\n",
       "  'Year': 1932,\n",
       "  'Max sustained wind': 160,\n",
       "  'Areas affected': ['The Bahamas', 'Northeastern United States'],\n",
       "  'Damage': 'Damages not recorded',\n",
       "  'Deaths': 16},\n",
       " 'Cuba II': {'Name': 'Cuba II',\n",
       "  'Month': 'November',\n",
       "  'Year': 1932,\n",
       "  'Max sustained wind': 175,\n",
       "  'Areas affected': ['Lesser Antilles',\n",
       "   'Jamaica',\n",
       "   'Cayman Islands',\n",
       "   'Cuba',\n",
       "   'The Bahamas',\n",
       "   'Bermuda'],\n",
       "  'Damage': 40000000.0,\n",
       "  'Deaths': 3103},\n",
       " 'CubaBrownsville': {'Name': 'CubaBrownsville',\n",
       "  'Month': 'August',\n",
       "  'Year': 1933,\n",
       "  'Max sustained wind': 160,\n",
       "  'Areas affected': ['The Bahamas', 'Cuba', 'Florida', 'Texas', 'Tamaulipas'],\n",
       "  'Damage': 27900000.0,\n",
       "  'Deaths': 179},\n",
       " 'Tampico': {'Name': 'Tampico',\n",
       "  'Month': 'September',\n",
       "  'Year': 1933,\n",
       "  'Max sustained wind': 160,\n",
       "  'Areas affected': ['Jamaica', 'Yucatn Peninsula'],\n",
       "  'Damage': 5000000.0,\n",
       "  'Deaths': 184},\n",
       " 'Labor Day': {'Name': 'Labor Day',\n",
       "  'Month': 'September',\n",
       "  'Year': 1935,\n",
       "  'Max sustained wind': 185,\n",
       "  'Areas affected': ['The Bahamas',\n",
       "   'Florida',\n",
       "   'Georgia',\n",
       "   'The Carolinas',\n",
       "   'Virginia'],\n",
       "  'Damage': 'Damages not recorded',\n",
       "  'Deaths': 408},\n",
       " 'New England': {'Name': 'New England',\n",
       "  'Month': 'September',\n",
       "  'Year': 1938,\n",
       "  'Max sustained wind': 160,\n",
       "  'Areas affected': ['Southeastern United States',\n",
       "   'Northeastern United States',\n",
       "   'Southwestern Quebec'],\n",
       "  'Damage': 306000000.0,\n",
       "  'Deaths': 682},\n",
       " 'Carol': {'Name': 'Carol',\n",
       "  'Month': 'September',\n",
       "  'Year': 1953,\n",
       "  'Max sustained wind': 160,\n",
       "  'Areas affected': ['Bermuda', 'New England', 'Atlantic Canada'],\n",
       "  'Damage': 2000000.0,\n",
       "  'Deaths': 5},\n",
       " 'Janet': {'Name': 'Janet',\n",
       "  'Month': 'September',\n",
       "  'Year': 1955,\n",
       "  'Max sustained wind': 175,\n",
       "  'Areas affected': ['Lesser Antilles', 'Central America'],\n",
       "  'Damage': 65800000.0,\n",
       "  'Deaths': 1023},\n",
       " 'Carla': {'Name': 'Carla',\n",
       "  'Month': 'September',\n",
       "  'Year': 1961,\n",
       "  'Max sustained wind': 175,\n",
       "  'Areas affected': ['Texas', 'Louisiana', 'Midwestern United States'],\n",
       "  'Damage': 326000000.0,\n",
       "  'Deaths': 43},\n",
       " 'Hattie': {'Name': 'Hattie',\n",
       "  'Month': 'October',\n",
       "  'Year': 1961,\n",
       "  'Max sustained wind': 160,\n",
       "  'Areas affected': ['Central America'],\n",
       "  'Damage': 60300000.0,\n",
       "  'Deaths': 319},\n",
       " 'Beulah': {'Name': 'Beulah',\n",
       "  'Month': 'September',\n",
       "  'Year': 1967,\n",
       "  'Max sustained wind': 160,\n",
       "  'Areas affected': ['The Caribbean', 'Mexico', 'Texas'],\n",
       "  'Damage': 208000000.0,\n",
       "  'Deaths': 688},\n",
       " 'Camille': {'Name': 'Camille',\n",
       "  'Month': 'August',\n",
       "  'Year': 1969,\n",
       "  'Max sustained wind': 175,\n",
       "  'Areas affected': ['Cuba', 'United States Gulf Coast'],\n",
       "  'Damage': 1420000000.0,\n",
       "  'Deaths': 259},\n",
       " 'Edith': {'Name': 'Edith',\n",
       "  'Month': 'September',\n",
       "  'Year': 1971,\n",
       "  'Max sustained wind': 160,\n",
       "  'Areas affected': ['The Caribbean',\n",
       "   'Central America',\n",
       "   'Mexico',\n",
       "   'United States Gulf Coast'],\n",
       "  'Damage': 25400000.0,\n",
       "  'Deaths': 37},\n",
       " 'Anita': {'Name': 'Anita',\n",
       "  'Month': 'September',\n",
       "  'Year': 1977,\n",
       "  'Max sustained wind': 175,\n",
       "  'Areas affected': ['Mexico'],\n",
       "  'Damage': 'Damages not recorded',\n",
       "  'Deaths': 11},\n",
       " 'David': {'Name': 'David',\n",
       "  'Month': 'August',\n",
       "  'Year': 1979,\n",
       "  'Max sustained wind': 175,\n",
       "  'Areas affected': ['The Caribbean', 'United States East coast'],\n",
       "  'Damage': 1540000000.0,\n",
       "  'Deaths': 2068},\n",
       " 'Allen': {'Name': 'Allen',\n",
       "  'Month': 'August',\n",
       "  'Year': 1980,\n",
       "  'Max sustained wind': 190,\n",
       "  'Areas affected': ['The Caribbean',\n",
       "   'Yucatn Peninsula',\n",
       "   'Mexico',\n",
       "   'South Texas'],\n",
       "  'Damage': 1240000000.0,\n",
       "  'Deaths': 269},\n",
       " 'Gilbert': {'Name': 'Gilbert',\n",
       "  'Month': 'September',\n",
       "  'Year': 1988,\n",
       "  'Max sustained wind': 185,\n",
       "  'Areas affected': ['Jamaica',\n",
       "   'Venezuela',\n",
       "   'Central America',\n",
       "   'Hispaniola',\n",
       "   'Mexico'],\n",
       "  'Damage': 7100000000.0,\n",
       "  'Deaths': 318},\n",
       " 'Hugo': {'Name': 'Hugo',\n",
       "  'Month': 'September',\n",
       "  'Year': 1989,\n",
       "  'Max sustained wind': 160,\n",
       "  'Areas affected': ['The Caribbean', 'United States East Coast'],\n",
       "  'Damage': 10000000000.0,\n",
       "  'Deaths': 107},\n",
       " 'Andrew': {'Name': 'Andrew',\n",
       "  'Month': 'August',\n",
       "  'Year': 1992,\n",
       "  'Max sustained wind': 175,\n",
       "  'Areas affected': ['The Bahamas', 'Florida', 'United States Gulf Coast'],\n",
       "  'Damage': 26500000000.0,\n",
       "  'Deaths': 65},\n",
       " 'Mitch': {'Name': 'Mitch',\n",
       "  'Month': 'October',\n",
       "  'Year': 1998,\n",
       "  'Max sustained wind': 180,\n",
       "  'Areas affected': ['Central America', 'Yucatn Peninsula', 'South Florida'],\n",
       "  'Damage': 6200000000.0,\n",
       "  'Deaths': 19325},\n",
       " 'Isabel': {'Name': 'Isabel',\n",
       "  'Month': 'September',\n",
       "  'Year': 2003,\n",
       "  'Max sustained wind': 165,\n",
       "  'Areas affected': ['Greater Antilles',\n",
       "   'Bahamas',\n",
       "   'Eastern United States',\n",
       "   'Ontario'],\n",
       "  'Damage': 5370000000.0,\n",
       "  'Deaths': 51},\n",
       " 'Ivan': {'Name': 'Ivan',\n",
       "  'Month': 'September',\n",
       "  'Year': 2004,\n",
       "  'Max sustained wind': 165,\n",
       "  'Areas affected': ['The Caribbean', 'Venezuela', 'United States Gulf Coast'],\n",
       "  'Damage': 23300000000.0,\n",
       "  'Deaths': 124},\n",
       " 'Emily': {'Name': 'Emily',\n",
       "  'Month': 'July',\n",
       "  'Year': 2005,\n",
       "  'Max sustained wind': 160,\n",
       "  'Areas affected': ['Windward Islands', 'Jamaica', 'Mexico', 'Texas'],\n",
       "  'Damage': 1010000000.0,\n",
       "  'Deaths': 17},\n",
       " 'Katrina': {'Name': 'Katrina',\n",
       "  'Month': 'August',\n",
       "  'Year': 2005,\n",
       "  'Max sustained wind': 175,\n",
       "  'Areas affected': ['Bahamas', 'United States Gulf Coast'],\n",
       "  'Damage': 125000000000.0,\n",
       "  'Deaths': 1836},\n",
       " 'Rita': {'Name': 'Rita',\n",
       "  'Month': 'September',\n",
       "  'Year': 2005,\n",
       "  'Max sustained wind': 180,\n",
       "  'Areas affected': ['Cuba', 'United States Gulf Coast'],\n",
       "  'Damage': 12000000000.0,\n",
       "  'Deaths': 125},\n",
       " 'Wilma': {'Name': 'Wilma',\n",
       "  'Month': 'October',\n",
       "  'Year': 2005,\n",
       "  'Max sustained wind': 185,\n",
       "  'Areas affected': ['Greater Antilles', 'Central America', 'Florida'],\n",
       "  'Damage': 29400000000.0,\n",
       "  'Deaths': 87},\n",
       " 'Dean': {'Name': 'Dean',\n",
       "  'Month': 'August',\n",
       "  'Year': 2007,\n",
       "  'Max sustained wind': 175,\n",
       "  'Areas affected': ['The Caribbean', 'Central America'],\n",
       "  'Damage': 1760000000.0,\n",
       "  'Deaths': 45},\n",
       " 'Felix': {'Name': 'Felix',\n",
       "  'Month': 'September',\n",
       "  'Year': 2007,\n",
       "  'Max sustained wind': 175,\n",
       "  'Areas affected': ['Nicaragua', 'Honduras'],\n",
       "  'Damage': 720000000.0,\n",
       "  'Deaths': 133},\n",
       " 'Matthew': {'Name': 'Matthew',\n",
       "  'Month': 'October',\n",
       "  'Year': 2016,\n",
       "  'Max sustained wind': 165,\n",
       "  'Areas affected': ['Antilles',\n",
       "   'Venezuela',\n",
       "   'Colombia',\n",
       "   'United States East Coast',\n",
       "   'Atlantic Canada'],\n",
       "  'Damage': 15100000000.0,\n",
       "  'Deaths': 603},\n",
       " 'Irma': {'Name': 'Irma',\n",
       "  'Month': 'September',\n",
       "  'Year': 2017,\n",
       "  'Max sustained wind': 180,\n",
       "  'Areas affected': ['Cape Verde',\n",
       "   'The Caribbean',\n",
       "   'British Virgin Islands',\n",
       "   'U.S. Virgin Islands',\n",
       "   'Cuba',\n",
       "   'Florida'],\n",
       "  'Damage': 64800000000.0,\n",
       "  'Deaths': 138},\n",
       " 'Maria': {'Name': 'Maria',\n",
       "  'Month': 'September',\n",
       "  'Year': 2017,\n",
       "  'Max sustained wind': 175,\n",
       "  'Areas affected': ['Lesser Antilles',\n",
       "   'Virgin Islands',\n",
       "   'Puerto Rico',\n",
       "   'Dominican Republic',\n",
       "   'Turks and Caicos Islands'],\n",
       "  'Damage': 91600000000.0,\n",
       "  'Deaths': 3057},\n",
       " 'Michael': {'Name': 'Michael',\n",
       "  'Month': 'October',\n",
       "  'Year': 2018,\n",
       "  'Max sustained wind': 160,\n",
       "  'Areas affected': ['Central America',\n",
       "   'United States Gulf Coast (especially Florida Panhandle)'],\n",
       "  'Damage': 25100000000.0,\n",
       "  'Deaths': 74}}"
      ]
     },
     "execution_count": 148,
     "metadata": {},
     "output_type": "execute_result"
    }
   ],
   "source": [
    "# write your construct hurricane dictionary function here:\n",
    "hurricanes_dict = {}\n",
    "def construct_dictionaries (names, months, years, max_sustained_winds, areas_affected, damages_updated, deaths):\n",
    "  \n",
    "  for i in range(len(names)):\n",
    "    hurricanes_dict[names[i]] = {'Name': names[i], 'Month': months[i], 'Year': years[i], 'Max sustained wind': max_sustained_winds[i], 'Areas affected': areas_affected[i], 'Damage': damages_updated[i], 'Deaths': deaths[i]}\n",
    "  return hurricanes_dict\n",
    "construct_dictionaries(names, months, years, max_sustained_winds, areas_affected, damages_updated, deaths)\n",
    "#print(hurricanes_dict)\n",
    "#print()"
   ]
  },
  {
   "cell_type": "markdown",
   "metadata": {},
   "source": [
    "Write a function that converts the current dictionary of hurricanes to a new dictionary, where the keys are years and the values are lists containing a dictionary for each hurricane that occurred in that year."
   ]
  },
  {
   "cell_type": "code",
   "execution_count": 149,
   "metadata": {},
   "outputs": [
    {
     "name": "stdout",
     "output_type": "stream",
     "text": [
      "\n"
     ]
    }
   ],
   "source": [
    "# write your construct hurricane by year dictionary function here:\n",
    "hurricanes_by_year = {}\n",
    "def organize_by_year(hurricanes):\n",
    "  for i in hurricanes:\n",
    "    current_year = hurricanes[i]['Year']\n",
    "    current_cane = hurricanes[i]\n",
    "    if current_year not in hurricanes_by_year:\n",
    "      hurricanes_by_year[current_year] = [current_cane]\n",
    "    else: \n",
    "      hurricanes_by_year[current_year].append(current_cane)\n",
    "  return(hurricanes_by_year)\n",
    "organize_by_year(hurricanes_dict)\n",
    "#print(hurricanes_by_year)\n",
    "print()"
   ]
  },
  {
   "cell_type": "markdown",
   "metadata": {},
   "source": [
    "Write a function that counts how often each area is listed as an affected area of a hurricane. Store and return the results in a dictionary where the keys are the affected areas and the values are counts of how many times the areas were affected.\n",
    "\n"
   ]
  },
  {
   "cell_type": "code",
   "execution_count": 150,
   "metadata": {},
   "outputs": [
    {
     "name": "stdout",
     "output_type": "stream",
     "text": [
      "\n"
     ]
    }
   ],
   "source": [
    "# write your count affected areas function here:\n",
    "affected_areas = dict()\n",
    "def affected_fun():\n",
    "  for i in hurricanes_dict:\n",
    "    for j in hurricanes_dict[i]['Areas affected']:\n",
    "      if j not in affected_areas:\n",
    "        affected_areas[j]=1\n",
    "      else: \n",
    "        affected_areas[j] += 1\n",
    "  return affected_areas\n",
    "affected_fun()\n",
    "#print(affected_areas)\n",
    "print()"
   ]
  },
  {
   "cell_type": "markdown",
   "metadata": {},
   "source": [
    "Write a function that finds the area affected by the most hurricanes, and how often it was hit."
   ]
  },
  {
   "cell_type": "code",
   "execution_count": 151,
   "metadata": {},
   "outputs": [
    {
     "name": "stdout",
     "output_type": "stream",
     "text": [
      "The most affected area is Central America with 9 hurricanes.\n"
     ]
    }
   ],
   "source": [
    "# write your find most affected area function here:\n",
    "def most_affected_fun():\n",
    "  count_affected = 0\n",
    "  area_affected = ''\n",
    "  for k, v in affected_areas.items():\n",
    "    if v > count_affected:\n",
    "      area_affected = k\n",
    "      count_affected = v\n",
    "  # We return two values\n",
    "  return count_affected, area_affected\n",
    "\n",
    "#we initialize the two variables with the function\n",
    "count_affected, area_affected = most_affected_fun()\n",
    "print('The most affected area is {area} with {count} hurricanes.'.format(area = area_affected, count = count_affected))"
   ]
  },
  {
   "cell_type": "markdown",
   "metadata": {},
   "source": [
    "\n",
    "Write a function that finds the hurricane that caused the greatest number of deaths, and how many deaths it caused.\n",
    "\n",
    "Test your function on your hurricane dictionary."
   ]
  },
  {
   "cell_type": "code",
   "execution_count": 152,
   "metadata": {},
   "outputs": [
    {
     "name": "stdout",
     "output_type": "stream",
     "text": [
      "The most lethal hurricane is Mitch with 19325 deaths.\n"
     ]
    }
   ],
   "source": [
    "def max_deaths(hurricanes):\n",
    "    max_mortality = 0\n",
    "    hurricane_cane = ''\n",
    "    for i in hurricanes:\n",
    "        if hurricanes[i]['Deaths'] > max_mortality:\n",
    "            max_mortality = hurricanes[i]['Deaths']\n",
    "            hurricane_cane = i\n",
    "    return max_mortality, hurricane_cane\n",
    "max_mortality, hurricane_cane = max_deaths(hurricanes_dict)\n",
    "\n",
    "print('The most lethal hurricane is {name} with {number} deaths.'.format(name = hurricane_cane, number = max_mortality))\n"
   ]
  },
  {
   "cell_type": "markdown",
   "metadata": {},
   "source": [
    "Store the hurricanes in a new dictionary where the keys are mortality ratings and the values are lists containing a dictionary for each hurricane that falls into that mortality rating."
   ]
  },
  {
   "cell_type": "code",
   "execution_count": 153,
   "metadata": {},
   "outputs": [
    {
     "name": "stdout",
     "output_type": "stream",
     "text": [
      "Hurricanes scale 0 : ['Cuba I', 'Bahamas', 'Carol', 'Carla', 'Edith', 'Anita', 'Andrew', 'Isabel', 'Emily', 'Wilma', 'Dean', 'Michael']\n",
      "Hurricanes scale 1 : ['CubaBrownsville', 'Tampico', 'Labor Day', 'Hattie', 'Camille', 'Allen', 'Gilbert', 'Hugo', 'Ivan', 'Rita', 'Felix', 'Irma']\n",
      "Hurricanes scale 2 : ['New England', 'Beulah', 'Matthew']\n",
      "Hurricanes scale 3 : ['San Felipe II Okeechobee', 'Cuba II', 'Janet', 'David', 'Katrina', 'Maria']\n",
      "Hurricanes scale 4 : []\n",
      "Hurricanes scale 5 : ['Mitch']\n"
     ]
    }
   ],
   "source": [
    "def mortality_fun (hurricanes):\n",
    "    hurricanes_mortality_scale = {0:[], 1:[], 2:[], 3:[], 4:[], 5:[]}\n",
    "    mortality_scale = {\n",
    "        0: 0,\n",
    "        1: 100,\n",
    "        2: 500,\n",
    "        3: 1000,\n",
    "        4: 10000}\n",
    "    \n",
    "    # Iterate through every hurricane and check it's number of deaths with the scale and add to it's proper list\n",
    "    for i in hurricanes:\n",
    "        deaths = hurricanes[i]['Deaths']\n",
    "        for k in range(len(mortality_scale)-1):\n",
    "            if deaths > mortality_scale[k] and deaths <= mortality_scale[k+1]:\n",
    "                hurricanes_mortality_scale[k].append(i)\n",
    "        if deaths > mortality_scale[4]: \n",
    "            hurricanes_mortality_scale[5].append(i)\n",
    "    return hurricanes_mortality_scale\n",
    "hurricanes_mortality_scale = mortality_fun(hurricanes_dict)\n",
    "\n",
    "for k, v in hurricanes_mortality_scale.items():\n",
    "    print('Hurricanes scale {scale} : {hurricanes}'.format(scale = k, hurricanes = v))\n",
    "\n",
    "\n"
   ]
  },
  {
   "cell_type": "markdown",
   "metadata": {},
   "source": [
    "Write a function that finds the hurricane that caused the greatest damage, and how costly it was."
   ]
  },
  {
   "cell_type": "code",
   "execution_count": 154,
   "metadata": {},
   "outputs": [
    {
     "name": "stdout",
     "output_type": "stream",
     "text": [
      "The hurricane that caused the greatest damage is Katrina, with $125000000000.0 in damages.\n"
     ]
    }
   ],
   "source": [
    "def greatest_damage(hurricanes):\n",
    "    max_damage = 0\n",
    "    max_damage_hurricane = ''\n",
    "    for i in hurricanes:\n",
    "        damage = hurricanes[i]['Damage']\n",
    "        if damage != 'Damages not recorded':\n",
    "            if damage > max_damage:\n",
    "                max_damage = damage\n",
    "                max_damage_hurricane = i\n",
    "    return max_damage, max_damage_hurricane\n",
    "\n",
    "max_damage, max_damage_hurricane = greatest_damage(hurricanes_dict)\n",
    "print('The hurricane that caused the greatest damage is {name}, with ${damage} in damages.'.format(name = max_damage_hurricane, damage = max_damage))\n"
   ]
  },
  {
   "cell_type": "markdown",
   "metadata": {},
   "source": [
    "Write a function that rates hurricanes on a damage scale according to the following ratings, where the key is the rating and the value is the upper bound of damage for that rating."
   ]
  },
  {
   "cell_type": "code",
   "execution_count": 162,
   "metadata": {},
   "outputs": [
    {
     "name": "stdout",
     "output_type": "stream",
     "text": [
      "Damage scale 0: ['San Felipe II Okeechobee', 'Cuba II', 'CubaBrownsville', 'Tampico', 'Carol', 'Janet', 'Hattie', 'Edith']\n",
      "Damage scale 1: ['New England', 'Carla', 'Beulah', 'Felix']\n",
      "Damage scale 2: ['Camille', 'David', 'Allen', 'Gilbert', 'Hugo', 'Mitch', 'Isabel', 'Emily', 'Dean']\n",
      "Damage scale 3: ['Andrew', 'Ivan', 'Rita', 'Wilma', 'Matthew', 'Michael']\n",
      "Damage scale 4: []\n",
      "Damage scale 5: ['Katrina', 'Irma', 'Maria']\n"
     ]
    }
   ],
   "source": [
    "damage_scale = {\n",
    "    0: 0,\n",
    "    1: 100000000,\n",
    "    2: 1000000000,\n",
    "    3: 10000000000,\n",
    "    4: 50000000000}\n",
    "\n",
    "\n",
    "def damage_scale_fun (hurricanes, scale):\n",
    "    hurricanes_by_damage = {0:[],1:[],2:[],3:[],4:[],5:[]}\n",
    "\n",
    "    for i in hurricanes:\n",
    "        damage = hurricanes[i]['Damage']\n",
    "        if damage != 'Damages not recorded':\n",
    "            for k in range(len(scale)-1):\n",
    "                if damage > scale[k] and damage <= scale[k+1]:\n",
    "                    hurricanes_by_damage[k].append(i)\n",
    "            if damage > scale[4]:\n",
    "                hurricanes_by_damage[5].append(i)\n",
    "    return hurricanes_by_damage\n",
    "hurricanes_by_damage = damage_scale_fun(hurricanes_dict, damage_scale)\n",
    "\n",
    "for k, v in hurricanes_by_damage.items():\n",
    "    print('Damage scale {number}: {hurricanes}'.format(number = k, hurricanes = v))"
   ]
  }
 ],
 "metadata": {
  "kernelspec": {
   "display_name": "Python 3.9.12 ('base')",
   "language": "python",
   "name": "python3"
  },
  "language_info": {
   "codemirror_mode": {
    "name": "ipython",
    "version": 3
   },
   "file_extension": ".py",
   "mimetype": "text/x-python",
   "name": "python",
   "nbconvert_exporter": "python",
   "pygments_lexer": "ipython3",
   "version": "3.9.12"
  },
  "orig_nbformat": 4,
  "vscode": {
   "interpreter": {
    "hash": "f08154012ddadd8e950e6e9e035c7a7b32c136e7647e9b7c77e02eb723a8bedb"
   }
  }
 },
 "nbformat": 4,
 "nbformat_minor": 2
}
